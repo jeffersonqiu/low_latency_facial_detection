{
 "cells": [
  {
   "cell_type": "markdown",
   "id": "e1b02477",
   "metadata": {},
   "source": [
    "# First Submission"
   ]
  },
  {
   "cell_type": "markdown",
   "id": "f8b581c1",
   "metadata": {},
   "source": [
    "## Libraries"
   ]
  },
  {
   "cell_type": "code",
   "execution_count": 1,
   "id": "c00e1300",
   "metadata": {},
   "outputs": [],
   "source": [
    "import cv2\n",
    "import pandas as pd\n",
    "import matplotlib.pyplot as plt\n",
    "import numpy as np\n",
    "from PIL import Image\n",
    "import time"
   ]
  },
  {
   "cell_type": "markdown",
   "id": "e7821ce7",
   "metadata": {},
   "source": [
    "## Function Declaration"
   ]
  },
  {
   "cell_type": "code",
   "execution_count": 2,
   "id": "2cfbd8cc",
   "metadata": {},
   "outputs": [],
   "source": [
    "def find_largest_safe_zone(img, left_pct, right_pct, top_pct, bottom_pct, faces):\n",
    "    # Load the image\n",
    "    img_height, img_width = img.shape[:2]\n",
    "\n",
    "    # Calculate the boundary limits\n",
    "    left_bound = int(left_pct * img_width)\n",
    "    right_bound = int((1 - right_pct) * img_width)\n",
    "    top_bound = int(top_pct * img_height)\n",
    "    bottom_bound = int((1 - bottom_pct) * img_height)\n",
    "\n",
    "    # Initialize the binary matrix based on some discretization\n",
    "    # Note: For simplicity, let's assume we're working with the full pixel grid\n",
    "    binary_matrix = np.ones((img_height, img_width), dtype=int)\n",
    "    \n",
    "    # Mark areas outside the allowed boundaries as occupied (0)\n",
    "    binary_matrix[:, :left_bound] = 0\n",
    "    binary_matrix[:, right_bound:] = 0\n",
    "    binary_matrix[:top_bound, :] = 0\n",
    "    binary_matrix[bottom_bound:, :] = 0\n",
    "\n",
    "    # Mark areas occupied by faces as occupied (0)\n",
    "    for x, y, w, h in faces:\n",
    "        binary_matrix[y:y+h, x:x+w] = 0\n",
    "\n",
    "    return binary_matrix"
   ]
  },
  {
   "cell_type": "code",
   "execution_count": 3,
   "id": "82401cb2",
   "metadata": {},
   "outputs": [],
   "source": [
    "def maximal_rectangle(matrix):\n",
    "    if not matrix or not matrix[0]:\n",
    "        return 0, 0, 0, 0  # Return x, y, width, height with area 0 for empty matrix\n",
    "\n",
    "    n, m = len(matrix), len(matrix[0])\n",
    "    height = [0] * m\n",
    "    left = [0] * m\n",
    "    right = [m] * m\n",
    "    max_rectangle = (0, 0, 0, 0)  # area, x, y, width, height as initial max\n",
    "\n",
    "    for i in range(n):\n",
    "        cur_left, cur_right = 0, m\n",
    "        # Update height, left, and right for each column in the current row\n",
    "        for j in range(m):\n",
    "            if matrix[i][j] == '1':\n",
    "                height[j] += 1\n",
    "                left[j] = max(left[j], cur_left)\n",
    "            else:\n",
    "                height[j] = 0\n",
    "                left[j] = 0\n",
    "                cur_left = j + 1\n",
    "\n",
    "            # Update right for the current row from right to left\n",
    "            if matrix[i][m - 1 - j] == '1':\n",
    "                right[m - 1 - j] = min(right[m - 1 - j], cur_right)\n",
    "            else:\n",
    "                right[m - 1 - j] = m\n",
    "                cur_right = m - 1 - j\n",
    "\n",
    "        # Compute and update maximum area rectangle for each column\n",
    "        for j in range(m):\n",
    "            width = right[j] - left[j]\n",
    "            area = width * height[j]\n",
    "            if area > max_rectangle[0]:\n",
    "                max_rectangle = (left[j], i - height[j] + 1, width, height[j])\n",
    "\n",
    "    return max_rectangle  # Return x, y, width, height of the maximum rectangle"
   ]
  },
  {
   "cell_type": "code",
   "execution_count": 4,
   "id": "2a6ce706",
   "metadata": {},
   "outputs": [],
   "source": [
    "def rotate_image(frame, angle):\n",
    "    (h, w) = frame.shape[:2]\n",
    "    (cX, cY) = (w // 2, h // 2)\n",
    "\n",
    "    # Get the rotation matrix for the specified angle\n",
    "    M = cv2.getRotationMatrix2D((cX, cY), angle, 1.0)\n",
    "\n",
    "    # Perform the rotation\n",
    "    cos = abs(M[0, 0])\n",
    "    sin = abs(M[0, 1])\n",
    "\n",
    "    # Compute the new bounding dimensions of the image\n",
    "    nW = int((h * sin) + (w * cos))\n",
    "    nH = int((h * cos) + (w * sin))\n",
    "\n",
    "    # Adjust the rotation matrix to take into account translation\n",
    "    M[0, 2] += (nW / 2) - cX\n",
    "    M[1, 2] += (nH / 2) - cY\n",
    "\n",
    "    # Perform the actual rotation and return the image\n",
    "    rotated_frame = cv2.warpAffine(frame, M, (nW, nH))\n",
    "\n",
    "    return rotated_frame, M"
   ]
  },
  {
   "cell_type": "code",
   "execution_count": null,
   "id": "e073d88d",
   "metadata": {},
   "outputs": [],
   "source": []
  }
 ],
 "metadata": {
  "kernelspec": {
   "display_name": "New Kernel",
   "language": "python",
   "name": "b1stories-assignment"
  },
  "language_info": {
   "codemirror_mode": {
    "name": "ipython",
    "version": 3
   },
   "file_extension": ".py",
   "mimetype": "text/x-python",
   "name": "python",
   "nbconvert_exporter": "python",
   "pygments_lexer": "ipython3",
   "version": "3.12.1"
  },
  "toc": {
   "base_numbering": 1,
   "nav_menu": {},
   "number_sections": true,
   "sideBar": true,
   "skip_h1_title": false,
   "title_cell": "Table of Contents",
   "title_sidebar": "Contents",
   "toc_cell": false,
   "toc_position": {},
   "toc_section_display": true,
   "toc_window_display": false
  }
 },
 "nbformat": 4,
 "nbformat_minor": 5
}
